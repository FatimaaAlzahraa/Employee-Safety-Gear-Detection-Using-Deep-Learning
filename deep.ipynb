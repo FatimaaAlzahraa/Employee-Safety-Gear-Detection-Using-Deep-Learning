{
 "cells": [
  {
   "cell_type": "markdown",
   "metadata": {},
   "source": [
    "### 1. Employee Safety Gear Detection Using MobileNetV2\n",
    "- In many industrial environments, ensuring that employees adhere to safety protocols by wearing the appropriate safety gear is essential to preventing workplace accidents and maintaining regulatory compliance. Personal protective equipment (PPE), such as helmets and safety vests, is crucial in minimizing risks. However, manual supervision of employee safety compliance can be error-prone and inefficient, especially in large-scale operations.\n",
    "\n",
    "\n",
    "- This project aims to develop an automated deep learning model that can detect whether employees are wearing appropriate safety gear—specifically, helmets and safety vests—before commencing work. By leveraging image recognition techniques, the model can provide a real-time solution for monitoring workplace safety."
   ]
  },
  {
   "cell_type": "code",
   "execution_count": 1,
   "metadata": {},
   "outputs": [],
   "source": [
    "import keras"
   ]
  },
  {
   "cell_type": "code",
   "execution_count": 2,
   "metadata": {},
   "outputs": [],
   "source": [
    "import pandas as pd\n",
    "import os\n",
    "from skimage.transform import resize\n",
    "from skimage.io import imread\n",
    "import numpy as np\n",
    "import matplotlib.pyplot as plt\n",
    "from sklearn.metrics import accuracy_score\n",
    "import cv2\n",
    "from sklearn.model_selection import train_test_split \n",
    "from keras import applications\n",
    "from tensorflow.keras.preprocessing.image import ImageDataGenerator\n",
    "from keras import optimizers\n",
    "from tensorflow.keras.applications import MobileNetV2\n",
    "from tensorflow.keras.layers import Dense, GlobalAveragePooling2D\n",
    "from tensorflow.keras.models import Model\n",
    "from tensorflow.keras import layers, preprocessing, applications"
   ]
  },
  {
   "cell_type": "markdown",
   "metadata": {},
   "source": [
    "## 1.1 Dataset:\n",
    "### The dataset used for this project consists of two sub-folders:\n",
    "\n",
    "- Wearing Safety Gear Sub-Folder: This contains images of individuals wearing the necessary safety equipment, including helmets and safety vests.\n",
    "- Not Wearing Safety Gear Sub-Folder:: This sub-folder includes images of people who are not wearing any safety gear."
   ]
  },
  {
   "cell_type": "code",
   "execution_count": null,
   "metadata": {},
   "outputs": [],
   "source": [
    "import os\n",
    "import matplotlib.pyplot as plt\n",
    "import random\n",
    "\n",
    "# List of class names\n",
    "class_names = ['Wearing Safety Gear', 'Not Wearing Safety Gear']\n",
    "image_paths = []  # Input array\n",
    "labels = []       # Output array\n",
    "\n",
    "datadir = r\"C:\\Users\\zahra\\Downloads\\GearedorNot\\Employee-Safety-Gear-Detection-Using-Deep-Learning-MobileNetV2-\\GearedorNot\\GearedorNot\"\n",
    "\n",
    "# Path which contains all the categories of images\n",
    "for class_name in class_names:\n",
    "    class_dir = os.path.join(datadir, class_name)\n",
    "    for image_path in os.listdir(class_dir):\n",
    "        image_paths.append(os.path.join(class_dir, image_path))\n",
    "        labels.append(class_name)\n",
    "\n",
    "# Combine the image paths and labels for shuffling\n",
    "combined = list(zip(image_paths, labels))\n",
    "\n",
    "# Shuffle the images randomly\n",
    "random.shuffle(combined)\n",
    "\n",
    "# Unzip the shuffled image paths and labels\n",
    "image_paths, labels = zip(*combined)\n",
    "\n",
    "# Create a figure with 2 rows and 3 columns of subplots\n",
    "fig, axes = plt.subplots(2, 3, figsize=(12, 8))\n",
    "\n",
    "# Iterate over the subplots and display random images\n",
    "for i in range(2):\n",
    "    for j in range(3):\n",
    "        # Select random image path and label\n",
    "        image_path = image_paths[i * 3 + j]\n",
    "        label = labels[i * 3 + j]\n",
    "\n",
    "        # Read the image and display it in the current subplot\n",
    "        image = plt.imread(image_path)\n",
    "        axes[i, j].imshow(image)\n",
    "        axes[i, j].set_title(label)\n",
    "        axes[i, j].axis('off')  # Hide axes for cleaner presentation\n",
    "\n",
    "# Adjust spacing between subplots\n",
    "plt.tight_layout()\n",
    "\n",
    "# Show the plot\n",
    "plt.show()\n"
   ]
  },
  {
   "cell_type": "code",
   "execution_count": null,
   "metadata": {},
   "outputs": [],
   "source": []
  },
  {
   "cell_type": "code",
   "execution_count": null,
   "metadata": {},
   "outputs": [],
   "source": []
  },
  {
   "cell_type": "code",
   "execution_count": null,
   "metadata": {},
   "outputs": [],
   "source": []
  },
  {
   "cell_type": "code",
   "execution_count": null,
   "metadata": {},
   "outputs": [],
   "source": []
  },
  {
   "cell_type": "code",
   "execution_count": null,
   "metadata": {},
   "outputs": [],
   "source": []
  },
  {
   "cell_type": "code",
   "execution_count": null,
   "metadata": {},
   "outputs": [],
   "source": []
  },
  {
   "cell_type": "code",
   "execution_count": null,
   "metadata": {},
   "outputs": [],
   "source": []
  },
  {
   "cell_type": "code",
   "execution_count": null,
   "metadata": {},
   "outputs": [],
   "source": []
  },
  {
   "cell_type": "code",
   "execution_count": null,
   "metadata": {},
   "outputs": [],
   "source": []
  },
  {
   "cell_type": "code",
   "execution_count": null,
   "metadata": {},
   "outputs": [],
   "source": []
  }
 ],
 "metadata": {
  "kernelspec": {
   "display_name": "Python 3",
   "language": "python",
   "name": "python3"
  },
  "language_info": {
   "codemirror_mode": {
    "name": "ipython",
    "version": 3
   },
   "file_extension": ".py",
   "mimetype": "text/x-python",
   "name": "python",
   "nbconvert_exporter": "python",
   "pygments_lexer": "ipython3",
   "version": "3.12.6"
  }
 },
 "nbformat": 4,
 "nbformat_minor": 2
}
